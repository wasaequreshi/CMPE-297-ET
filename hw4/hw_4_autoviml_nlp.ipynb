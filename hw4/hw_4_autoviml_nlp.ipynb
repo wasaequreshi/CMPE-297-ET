{
  "nbformat": 4,
  "nbformat_minor": 0,
  "metadata": {
    "colab": {
      "name": "hw_4_autoviml_nlp",
      "provenance": []
    },
    "kernelspec": {
      "name": "python3",
      "display_name": "Python 3"
    },
    "language_info": {
      "name": "python"
    }
  },
  "cells": [
    {
      "cell_type": "markdown",
      "metadata": {
        "id": "6eAuoCb44V99"
      },
      "source": [
        "# AutoViML NLP\n",
        "\n",
        "Source: https://github.com/AutoViML/deep_autoviml/blob/master/examples/Deep_Auto_ViML_NLP_Demo.ipynb"
      ]
    },
    {
      "cell_type": "markdown",
      "metadata": {
        "id": "5m9_us8e4cC8"
      },
      "source": [
        "# Setup"
      ]
    },
    {
      "cell_type": "code",
      "metadata": {
        "colab": {
          "base_uri": "https://localhost:8080/"
        },
        "id": "3_G9wfCt5oXf",
        "outputId": "3716de7e-f369-4c21-9cc1-9f896d95e6a9"
      },
      "source": [
        "!pip install kaggle\n",
        "!pip install deep_autoviml"
      ],
      "execution_count": 1,
      "outputs": [
        {
          "output_type": "stream",
          "name": "stdout",
          "text": [
            "Requirement already satisfied: kaggle in /usr/local/lib/python3.7/dist-packages (1.5.12)\n",
            "Requirement already satisfied: python-slugify in /usr/local/lib/python3.7/dist-packages (from kaggle) (5.0.2)\n",
            "Requirement already satisfied: tqdm in /usr/local/lib/python3.7/dist-packages (from kaggle) (4.62.3)\n",
            "Requirement already satisfied: certifi in /usr/local/lib/python3.7/dist-packages (from kaggle) (2021.5.30)\n",
            "Requirement already satisfied: six>=1.10 in /usr/local/lib/python3.7/dist-packages (from kaggle) (1.15.0)\n",
            "Requirement already satisfied: requests in /usr/local/lib/python3.7/dist-packages (from kaggle) (2.23.0)\n",
            "Requirement already satisfied: urllib3 in /usr/local/lib/python3.7/dist-packages (from kaggle) (1.24.3)\n",
            "Requirement already satisfied: python-dateutil in /usr/local/lib/python3.7/dist-packages (from kaggle) (2.8.2)\n",
            "Requirement already satisfied: text-unidecode>=1.3 in /usr/local/lib/python3.7/dist-packages (from python-slugify->kaggle) (1.3)\n",
            "Requirement already satisfied: idna<3,>=2.5 in /usr/local/lib/python3.7/dist-packages (from requests->kaggle) (2.10)\n",
            "Requirement already satisfied: chardet<4,>=3.0.2 in /usr/local/lib/python3.7/dist-packages (from requests->kaggle) (3.0.4)\n",
            "Requirement already satisfied: deep_autoviml in /usr/local/lib/python3.7/dist-packages (0.0.67)\n",
            "Requirement already satisfied: pandas in /usr/local/lib/python3.7/dist-packages (from deep_autoviml) (1.1.5)\n",
            "Requirement already satisfied: tensorflow>=2.5.1 in /usr/local/lib/python3.7/dist-packages (from deep_autoviml) (2.6.0)\n",
            "Requirement already satisfied: storm-tuner>=0.0.8 in /usr/local/lib/python3.7/dist-packages (from deep_autoviml) (0.0.9)\n",
            "Requirement already satisfied: optuna in /usr/local/lib/python3.7/dist-packages (from deep_autoviml) (2.10.0)\n",
            "Requirement already satisfied: xlrd in /usr/local/lib/python3.7/dist-packages (from deep_autoviml) (1.1.0)\n",
            "Requirement already satisfied: scikit-learn>=0.23.1 in /usr/local/lib/python3.7/dist-packages (from deep_autoviml) (1.0.1)\n",
            "Requirement already satisfied: ipython in /usr/local/lib/python3.7/dist-packages (from deep_autoviml) (5.5.0)\n",
            "Requirement already satisfied: numpy==1.19.2 in /usr/local/lib/python3.7/dist-packages (from deep_autoviml) (1.19.2)\n",
            "Requirement already satisfied: jupyter in /usr/local/lib/python3.7/dist-packages (from deep_autoviml) (1.0.0)\n",
            "Requirement already satisfied: regex in /usr/local/lib/python3.7/dist-packages (from deep_autoviml) (2019.12.20)\n",
            "Requirement already satisfied: matplotlib in /usr/local/lib/python3.7/dist-packages (from deep_autoviml) (3.2.2)\n",
            "Requirement already satisfied: emoji in /usr/local/lib/python3.7/dist-packages (from deep_autoviml) (1.6.1)\n",
            "Requirement already satisfied: tensorflow-hub==0.12.0 in /usr/local/lib/python3.7/dist-packages (from deep_autoviml) (0.12.0)\n",
            "Requirement already satisfied: tensorflow-text>=2.5.0 in /usr/local/lib/python3.7/dist-packages (from deep_autoviml) (2.6.0)\n",
            "Requirement already satisfied: protobuf>=3.8.0 in /usr/local/lib/python3.7/dist-packages (from tensorflow-hub==0.12.0->deep_autoviml) (3.17.3)\n",
            "Requirement already satisfied: six>=1.9 in /usr/local/lib/python3.7/dist-packages (from protobuf>=3.8.0->tensorflow-hub==0.12.0->deep_autoviml) (1.15.0)\n",
            "Requirement already satisfied: threadpoolctl>=2.0.0 in /usr/local/lib/python3.7/dist-packages (from scikit-learn>=0.23.1->deep_autoviml) (3.0.0)\n",
            "Requirement already satisfied: scipy>=1.1.0 in /usr/local/lib/python3.7/dist-packages (from scikit-learn>=0.23.1->deep_autoviml) (1.4.1)\n",
            "Requirement already satisfied: joblib>=0.11 in /usr/local/lib/python3.7/dist-packages (from scikit-learn>=0.23.1->deep_autoviml) (1.0.1)\n",
            "Requirement already satisfied: absl-py~=0.10 in /usr/local/lib/python3.7/dist-packages (from tensorflow>=2.5.1->deep_autoviml) (0.12.0)\n",
            "Requirement already satisfied: flatbuffers~=1.12.0 in /usr/local/lib/python3.7/dist-packages (from tensorflow>=2.5.1->deep_autoviml) (1.12)\n",
            "Requirement already satisfied: clang~=5.0 in /usr/local/lib/python3.7/dist-packages (from tensorflow>=2.5.1->deep_autoviml) (5.0)\n",
            "Requirement already satisfied: gast==0.4.0 in /usr/local/lib/python3.7/dist-packages (from tensorflow>=2.5.1->deep_autoviml) (0.4.0)\n",
            "Requirement already satisfied: typing-extensions~=3.7.4 in /usr/local/lib/python3.7/dist-packages (from tensorflow>=2.5.1->deep_autoviml) (3.7.4.3)\n",
            "Requirement already satisfied: tensorboard~=2.6 in /usr/local/lib/python3.7/dist-packages (from tensorflow>=2.5.1->deep_autoviml) (2.6.0)\n",
            "Requirement already satisfied: termcolor~=1.1.0 in /usr/local/lib/python3.7/dist-packages (from tensorflow>=2.5.1->deep_autoviml) (1.1.0)\n",
            "Requirement already satisfied: wheel~=0.35 in /usr/local/lib/python3.7/dist-packages (from tensorflow>=2.5.1->deep_autoviml) (0.37.0)\n",
            "Requirement already satisfied: opt-einsum~=3.3.0 in /usr/local/lib/python3.7/dist-packages (from tensorflow>=2.5.1->deep_autoviml) (3.3.0)\n",
            "Requirement already satisfied: grpcio<2.0,>=1.37.0 in /usr/local/lib/python3.7/dist-packages (from tensorflow>=2.5.1->deep_autoviml) (1.41.0)\n",
            "Requirement already satisfied: google-pasta~=0.2 in /usr/local/lib/python3.7/dist-packages (from tensorflow>=2.5.1->deep_autoviml) (0.2.0)\n",
            "Requirement already satisfied: wrapt~=1.12.1 in /usr/local/lib/python3.7/dist-packages (from tensorflow>=2.5.1->deep_autoviml) (1.12.1)\n",
            "Requirement already satisfied: h5py~=3.1.0 in /usr/local/lib/python3.7/dist-packages (from tensorflow>=2.5.1->deep_autoviml) (3.1.0)\n",
            "Requirement already satisfied: tensorflow-estimator~=2.6 in /usr/local/lib/python3.7/dist-packages (from tensorflow>=2.5.1->deep_autoviml) (2.6.0)\n",
            "Requirement already satisfied: keras~=2.6 in /usr/local/lib/python3.7/dist-packages (from tensorflow>=2.5.1->deep_autoviml) (2.6.0)\n",
            "Requirement already satisfied: keras-preprocessing~=1.1.2 in /usr/local/lib/python3.7/dist-packages (from tensorflow>=2.5.1->deep_autoviml) (1.1.2)\n",
            "Requirement already satisfied: astunparse~=1.6.3 in /usr/local/lib/python3.7/dist-packages (from tensorflow>=2.5.1->deep_autoviml) (1.6.3)\n",
            "Requirement already satisfied: cached-property in /usr/local/lib/python3.7/dist-packages (from h5py~=3.1.0->tensorflow>=2.5.1->deep_autoviml) (1.5.2)\n",
            "Requirement already satisfied: tensorboard-plugin-wit>=1.6.0 in /usr/local/lib/python3.7/dist-packages (from tensorboard~=2.6->tensorflow>=2.5.1->deep_autoviml) (1.8.0)\n",
            "Requirement already satisfied: markdown>=2.6.8 in /usr/local/lib/python3.7/dist-packages (from tensorboard~=2.6->tensorflow>=2.5.1->deep_autoviml) (3.3.4)\n",
            "Requirement already satisfied: google-auth<2,>=1.6.3 in /usr/local/lib/python3.7/dist-packages (from tensorboard~=2.6->tensorflow>=2.5.1->deep_autoviml) (1.35.0)\n",
            "Requirement already satisfied: werkzeug>=0.11.15 in /usr/local/lib/python3.7/dist-packages (from tensorboard~=2.6->tensorflow>=2.5.1->deep_autoviml) (1.0.1)\n",
            "Requirement already satisfied: google-auth-oauthlib<0.5,>=0.4.1 in /usr/local/lib/python3.7/dist-packages (from tensorboard~=2.6->tensorflow>=2.5.1->deep_autoviml) (0.4.6)\n",
            "Requirement already satisfied: requests<3,>=2.21.0 in /usr/local/lib/python3.7/dist-packages (from tensorboard~=2.6->tensorflow>=2.5.1->deep_autoviml) (2.23.0)\n",
            "Requirement already satisfied: setuptools>=41.0.0 in /usr/local/lib/python3.7/dist-packages (from tensorboard~=2.6->tensorflow>=2.5.1->deep_autoviml) (57.4.0)\n",
            "Requirement already satisfied: tensorboard-data-server<0.7.0,>=0.6.0 in /usr/local/lib/python3.7/dist-packages (from tensorboard~=2.6->tensorflow>=2.5.1->deep_autoviml) (0.6.1)\n",
            "Requirement already satisfied: rsa<5,>=3.1.4 in /usr/local/lib/python3.7/dist-packages (from google-auth<2,>=1.6.3->tensorboard~=2.6->tensorflow>=2.5.1->deep_autoviml) (4.7.2)\n",
            "Requirement already satisfied: pyasn1-modules>=0.2.1 in /usr/local/lib/python3.7/dist-packages (from google-auth<2,>=1.6.3->tensorboard~=2.6->tensorflow>=2.5.1->deep_autoviml) (0.2.8)\n",
            "Requirement already satisfied: cachetools<5.0,>=2.0.0 in /usr/local/lib/python3.7/dist-packages (from google-auth<2,>=1.6.3->tensorboard~=2.6->tensorflow>=2.5.1->deep_autoviml) (4.2.4)\n",
            "Requirement already satisfied: requests-oauthlib>=0.7.0 in /usr/local/lib/python3.7/dist-packages (from google-auth-oauthlib<0.5,>=0.4.1->tensorboard~=2.6->tensorflow>=2.5.1->deep_autoviml) (1.3.0)\n",
            "Requirement already satisfied: importlib-metadata in /usr/local/lib/python3.7/dist-packages (from markdown>=2.6.8->tensorboard~=2.6->tensorflow>=2.5.1->deep_autoviml) (4.8.1)\n",
            "Requirement already satisfied: pyasn1<0.5.0,>=0.4.6 in /usr/local/lib/python3.7/dist-packages (from pyasn1-modules>=0.2.1->google-auth<2,>=1.6.3->tensorboard~=2.6->tensorflow>=2.5.1->deep_autoviml) (0.4.8)\n",
            "Requirement already satisfied: chardet<4,>=3.0.2 in /usr/local/lib/python3.7/dist-packages (from requests<3,>=2.21.0->tensorboard~=2.6->tensorflow>=2.5.1->deep_autoviml) (3.0.4)\n",
            "Requirement already satisfied: idna<3,>=2.5 in /usr/local/lib/python3.7/dist-packages (from requests<3,>=2.21.0->tensorboard~=2.6->tensorflow>=2.5.1->deep_autoviml) (2.10)\n",
            "Requirement already satisfied: certifi>=2017.4.17 in /usr/local/lib/python3.7/dist-packages (from requests<3,>=2.21.0->tensorboard~=2.6->tensorflow>=2.5.1->deep_autoviml) (2021.5.30)\n",
            "Requirement already satisfied: urllib3!=1.25.0,!=1.25.1,<1.26,>=1.21.1 in /usr/local/lib/python3.7/dist-packages (from requests<3,>=2.21.0->tensorboard~=2.6->tensorflow>=2.5.1->deep_autoviml) (1.24.3)\n",
            "Requirement already satisfied: oauthlib>=3.0.0 in /usr/local/lib/python3.7/dist-packages (from requests-oauthlib>=0.7.0->google-auth-oauthlib<0.5,>=0.4.1->tensorboard~=2.6->tensorflow>=2.5.1->deep_autoviml) (3.1.1)\n",
            "Requirement already satisfied: zipp>=0.5 in /usr/local/lib/python3.7/dist-packages (from importlib-metadata->markdown>=2.6.8->tensorboard~=2.6->tensorflow>=2.5.1->deep_autoviml) (3.6.0)\n",
            "Requirement already satisfied: prompt-toolkit<2.0.0,>=1.0.4 in /usr/local/lib/python3.7/dist-packages (from ipython->deep_autoviml) (1.0.18)\n",
            "Requirement already satisfied: pickleshare in /usr/local/lib/python3.7/dist-packages (from ipython->deep_autoviml) (0.7.5)\n",
            "Requirement already satisfied: pygments in /usr/local/lib/python3.7/dist-packages (from ipython->deep_autoviml) (2.6.1)\n",
            "Requirement already satisfied: decorator in /usr/local/lib/python3.7/dist-packages (from ipython->deep_autoviml) (4.4.2)\n",
            "Requirement already satisfied: traitlets>=4.2 in /usr/local/lib/python3.7/dist-packages (from ipython->deep_autoviml) (5.1.0)\n",
            "Requirement already satisfied: simplegeneric>0.8 in /usr/local/lib/python3.7/dist-packages (from ipython->deep_autoviml) (0.8.1)\n",
            "Requirement already satisfied: pexpect in /usr/local/lib/python3.7/dist-packages (from ipython->deep_autoviml) (4.8.0)\n",
            "Requirement already satisfied: wcwidth in /usr/local/lib/python3.7/dist-packages (from prompt-toolkit<2.0.0,>=1.0.4->ipython->deep_autoviml) (0.2.5)\n",
            "Requirement already satisfied: ipykernel in /usr/local/lib/python3.7/dist-packages (from jupyter->deep_autoviml) (4.10.1)\n",
            "Requirement already satisfied: nbconvert in /usr/local/lib/python3.7/dist-packages (from jupyter->deep_autoviml) (5.6.1)\n",
            "Requirement already satisfied: notebook in /usr/local/lib/python3.7/dist-packages (from jupyter->deep_autoviml) (5.3.1)\n",
            "Requirement already satisfied: jupyter-console in /usr/local/lib/python3.7/dist-packages (from jupyter->deep_autoviml) (5.2.0)\n",
            "Requirement already satisfied: ipywidgets in /usr/local/lib/python3.7/dist-packages (from jupyter->deep_autoviml) (7.6.5)\n",
            "Requirement already satisfied: qtconsole in /usr/local/lib/python3.7/dist-packages (from jupyter->deep_autoviml) (5.1.1)\n",
            "Requirement already satisfied: jupyter-client in /usr/local/lib/python3.7/dist-packages (from ipykernel->jupyter->deep_autoviml) (5.3.5)\n",
            "Requirement already satisfied: tornado>=4.0 in /usr/local/lib/python3.7/dist-packages (from ipykernel->jupyter->deep_autoviml) (5.1.1)\n",
            "Requirement already satisfied: widgetsnbextension~=3.5.0 in /usr/local/lib/python3.7/dist-packages (from ipywidgets->jupyter->deep_autoviml) (3.5.1)\n",
            "Requirement already satisfied: jupyterlab-widgets>=1.0.0 in /usr/local/lib/python3.7/dist-packages (from ipywidgets->jupyter->deep_autoviml) (1.0.2)\n",
            "Requirement already satisfied: ipython-genutils~=0.2.0 in /usr/local/lib/python3.7/dist-packages (from ipywidgets->jupyter->deep_autoviml) (0.2.0)\n",
            "Requirement already satisfied: nbformat>=4.2.0 in /usr/local/lib/python3.7/dist-packages (from ipywidgets->jupyter->deep_autoviml) (5.1.3)\n",
            "Requirement already satisfied: jsonschema!=2.5.0,>=2.4 in /usr/local/lib/python3.7/dist-packages (from nbformat>=4.2.0->ipywidgets->jupyter->deep_autoviml) (2.6.0)\n",
            "Requirement already satisfied: jupyter-core in /usr/local/lib/python3.7/dist-packages (from nbformat>=4.2.0->ipywidgets->jupyter->deep_autoviml) (4.8.1)\n",
            "Requirement already satisfied: jinja2 in /usr/local/lib/python3.7/dist-packages (from notebook->jupyter->deep_autoviml) (2.11.3)\n",
            "Requirement already satisfied: Send2Trash in /usr/local/lib/python3.7/dist-packages (from notebook->jupyter->deep_autoviml) (1.8.0)\n",
            "Requirement already satisfied: terminado>=0.8.1 in /usr/local/lib/python3.7/dist-packages (from notebook->jupyter->deep_autoviml) (0.12.1)\n",
            "Requirement already satisfied: python-dateutil>=2.1 in /usr/local/lib/python3.7/dist-packages (from jupyter-client->ipykernel->jupyter->deep_autoviml) (2.8.2)\n",
            "Requirement already satisfied: pyzmq>=13 in /usr/local/lib/python3.7/dist-packages (from jupyter-client->ipykernel->jupyter->deep_autoviml) (22.3.0)\n",
            "Requirement already satisfied: ptyprocess in /usr/local/lib/python3.7/dist-packages (from terminado>=0.8.1->notebook->jupyter->deep_autoviml) (0.7.0)\n",
            "Requirement already satisfied: MarkupSafe>=0.23 in /usr/local/lib/python3.7/dist-packages (from jinja2->notebook->jupyter->deep_autoviml) (2.0.1)\n",
            "Requirement already satisfied: pyparsing!=2.0.4,!=2.1.2,!=2.1.6,>=2.0.1 in /usr/local/lib/python3.7/dist-packages (from matplotlib->deep_autoviml) (2.4.7)\n",
            "Requirement already satisfied: cycler>=0.10 in /usr/local/lib/python3.7/dist-packages (from matplotlib->deep_autoviml) (0.10.0)\n",
            "Requirement already satisfied: kiwisolver>=1.0.1 in /usr/local/lib/python3.7/dist-packages (from matplotlib->deep_autoviml) (1.3.2)\n",
            "Requirement already satisfied: defusedxml in /usr/local/lib/python3.7/dist-packages (from nbconvert->jupyter->deep_autoviml) (0.7.1)\n",
            "Requirement already satisfied: bleach in /usr/local/lib/python3.7/dist-packages (from nbconvert->jupyter->deep_autoviml) (4.1.0)\n",
            "Requirement already satisfied: entrypoints>=0.2.2 in /usr/local/lib/python3.7/dist-packages (from nbconvert->jupyter->deep_autoviml) (0.3)\n",
            "Requirement already satisfied: mistune<2,>=0.8.1 in /usr/local/lib/python3.7/dist-packages (from nbconvert->jupyter->deep_autoviml) (0.8.4)\n",
            "Requirement already satisfied: testpath in /usr/local/lib/python3.7/dist-packages (from nbconvert->jupyter->deep_autoviml) (0.5.0)\n",
            "Requirement already satisfied: pandocfilters>=1.4.1 in /usr/local/lib/python3.7/dist-packages (from nbconvert->jupyter->deep_autoviml) (1.5.0)\n",
            "Requirement already satisfied: packaging in /usr/local/lib/python3.7/dist-packages (from bleach->nbconvert->jupyter->deep_autoviml) (21.0)\n",
            "Requirement already satisfied: webencodings in /usr/local/lib/python3.7/dist-packages (from bleach->nbconvert->jupyter->deep_autoviml) (0.5.1)\n",
            "Requirement already satisfied: sqlalchemy>=1.1.0 in /usr/local/lib/python3.7/dist-packages (from optuna->deep_autoviml) (1.4.25)\n",
            "Requirement already satisfied: tqdm in /usr/local/lib/python3.7/dist-packages (from optuna->deep_autoviml) (4.62.3)\n",
            "Requirement already satisfied: alembic in /usr/local/lib/python3.7/dist-packages (from optuna->deep_autoviml) (1.7.4)\n",
            "Requirement already satisfied: cmaes>=0.8.2 in /usr/local/lib/python3.7/dist-packages (from optuna->deep_autoviml) (0.8.2)\n",
            "Requirement already satisfied: PyYAML in /usr/local/lib/python3.7/dist-packages (from optuna->deep_autoviml) (3.13)\n",
            "Requirement already satisfied: colorlog in /usr/local/lib/python3.7/dist-packages (from optuna->deep_autoviml) (6.5.0)\n",
            "Requirement already satisfied: cliff in /usr/local/lib/python3.7/dist-packages (from optuna->deep_autoviml) (3.9.0)\n",
            "Requirement already satisfied: greenlet!=0.4.17 in /usr/local/lib/python3.7/dist-packages (from sqlalchemy>=1.1.0->optuna->deep_autoviml) (1.1.2)\n",
            "Requirement already satisfied: Mako in /usr/local/lib/python3.7/dist-packages (from alembic->optuna->deep_autoviml) (1.1.5)\n",
            "Requirement already satisfied: importlib-resources in /usr/local/lib/python3.7/dist-packages (from alembic->optuna->deep_autoviml) (5.2.2)\n",
            "Requirement already satisfied: PrettyTable>=0.7.2 in /usr/local/lib/python3.7/dist-packages (from cliff->optuna->deep_autoviml) (2.2.1)\n",
            "Requirement already satisfied: pbr!=2.1.0,>=2.0.0 in /usr/local/lib/python3.7/dist-packages (from cliff->optuna->deep_autoviml) (5.6.0)\n",
            "Requirement already satisfied: autopage>=0.4.0 in /usr/local/lib/python3.7/dist-packages (from cliff->optuna->deep_autoviml) (0.4.0)\n",
            "Requirement already satisfied: stevedore>=2.0.1 in /usr/local/lib/python3.7/dist-packages (from cliff->optuna->deep_autoviml) (3.5.0)\n",
            "Requirement already satisfied: cmd2>=1.0.0 in /usr/local/lib/python3.7/dist-packages (from cliff->optuna->deep_autoviml) (2.2.0)\n",
            "Requirement already satisfied: attrs>=16.3.0 in /usr/local/lib/python3.7/dist-packages (from cmd2>=1.0.0->cliff->optuna->deep_autoviml) (21.2.0)\n",
            "Requirement already satisfied: pyperclip>=1.6 in /usr/local/lib/python3.7/dist-packages (from cmd2>=1.0.0->cliff->optuna->deep_autoviml) (1.8.2)\n",
            "Requirement already satisfied: colorama>=0.3.7 in /usr/local/lib/python3.7/dist-packages (from cmd2>=1.0.0->cliff->optuna->deep_autoviml) (0.4.4)\n",
            "Requirement already satisfied: pytz>=2017.2 in /usr/local/lib/python3.7/dist-packages (from pandas->deep_autoviml) (2018.9)\n",
            "Requirement already satisfied: qtpy in /usr/local/lib/python3.7/dist-packages (from qtconsole->jupyter->deep_autoviml) (1.11.2)\n"
          ]
        }
      ]
    },
    {
      "cell_type": "code",
      "metadata": {
        "colab": {
          "base_uri": "https://localhost:8080/"
        },
        "id": "FlMVQnbW4Cyo",
        "outputId": "0cc011e3-f0e2-4986-d159-44ace9c92254"
      },
      "source": [
        "from deep_autoviml import deep_autoviml as deepauto\n",
        "import numpy as np\n",
        "import pandas as pd\n",
        "from sklearn.model_selection import train_test_split\n",
        "from sklearn.preprocessing import StandardScaler"
      ],
      "execution_count": 2,
      "outputs": [
        {
          "output_type": "stream",
          "name": "stdout",
          "text": [
            "\n",
            "Imported deep_auto_viml. version=0.0.67\n",
            "from deep_autoviml import deep_autoviml as deepauto\n",
            "-------------------\n",
            "model, cat_vocab_dict = deepauto.fit(train, target, keras_model_type=\"fast\",\n",
            "\t\tproject_name=\"deep_autoviml\", keras_options=keras_options,  \n",
            "\t\tmodel_options=model_options, save_model_flag=True, use_my_model='',\n",
            "\t\tmodel_use_case='', verbose=0)\n",
            "\n",
            "predictions = deepauto.predict(model, project_name, test_dataset=test,\n",
            "                                 keras_model_type=keras_model_type, \n",
            "                                 cat_vocab_dict=cat_vocab_dict)\n",
            "                                \n"
          ]
        }
      ]
    },
    {
      "cell_type": "markdown",
      "metadata": {
        "id": "IaBCMljO5hKI"
      },
      "source": [
        "# Fetch Data"
      ]
    },
    {
      "cell_type": "code",
      "metadata": {
        "colab": {
          "base_uri": "https://localhost:8080/"
        },
        "id": "GaQ_XB5G5sr4",
        "outputId": "9bbda13c-39f6-4369-c391-0c3dfe8d57ab"
      },
      "source": [
        "from google.colab import drive\n",
        "drive.mount('/content/drive')"
      ],
      "execution_count": 4,
      "outputs": [
        {
          "output_type": "stream",
          "name": "stdout",
          "text": [
            "Mounted at /content/drive\n"
          ]
        }
      ]
    },
    {
      "cell_type": "code",
      "metadata": {
        "id": "-MqqzSak59eB"
      },
      "source": [
        "!mkdir '/root/.kaggle'\n",
        "!chmod 600 '/content/drive/My Drive/297 2021/kaggle.json'\n",
        "!cp '/content/drive/My Drive/297 2021/kaggle.json' '/root/.kaggle/'"
      ],
      "execution_count": 5,
      "outputs": []
    },
    {
      "cell_type": "code",
      "metadata": {
        "colab": {
          "base_uri": "https://localhost:8080/"
        },
        "id": "bH-Blwa05idH",
        "outputId": "5ff391dc-8da7-4981-96f3-a9aeb3d89292"
      },
      "source": [
        "!kaggle datasets download arkhoshghalb/twitter-sentiment-analysis-hatred-speech"
      ],
      "execution_count": 11,
      "outputs": [
        {
          "output_type": "stream",
          "name": "stdout",
          "text": [
            "usage: kaggle [-h] [-v] {competitions,c,datasets,d,kernels,k,config} ...\n",
            "kaggle: error: unrecognized arguments: .\n"
          ]
        }
      ]
    },
    {
      "cell_type": "code",
      "metadata": {
        "colab": {
          "base_uri": "https://localhost:8080/"
        },
        "id": "Zh8_TAsNwBN2",
        "outputId": "a1be2a3c-2682-45d9-ef3e-c523e6acb405"
      },
      "source": [
        "!unzip twitter-sentiment-analysis-hatred-speech.zip"
      ],
      "execution_count": 12,
      "outputs": [
        {
          "output_type": "stream",
          "name": "stdout",
          "text": [
            "Archive:  twitter-sentiment-analysis-hatred-speech.zip\n",
            "  inflating: test.csv                \n",
            "  inflating: train.csv               \n"
          ]
        }
      ]
    },
    {
      "cell_type": "code",
      "metadata": {
        "colab": {
          "base_uri": "https://localhost:8080/"
        },
        "id": "fXyNSBTkwJvT",
        "outputId": "1149134a-0a9b-43f6-d648-f112162f2126"
      },
      "source": [
        "!ls"
      ],
      "execution_count": 13,
      "outputs": [
        {
          "output_type": "stream",
          "name": "stdout",
          "text": [
            "drive\t     test.csv\ttwitter-sentiment-analysis-hatred-speech.zip\n",
            "sample_data  train.csv\n"
          ]
        }
      ]
    },
    {
      "cell_type": "markdown",
      "metadata": {
        "id": "-GgrX43K6LZj"
      },
      "source": [
        "# Loading Data"
      ]
    },
    {
      "cell_type": "code",
      "metadata": {
        "id": "YQljY3DJ6NDc",
        "colab": {
          "base_uri": "https://localhost:8080/",
          "height": 97
        },
        "outputId": "d33584a3-786d-47cc-b4e7-688b8546a98b"
      },
      "source": [
        "datapath = './'\n",
        "sep = ','\n",
        "filename = 'train.csv'\n",
        "df = pd.read_csv(datapath+filename,sep=sep)\n",
        "target = 'label'\n",
        "print(df.shape)\n",
        "df.head(1)"
      ],
      "execution_count": 16,
      "outputs": [
        {
          "output_type": "stream",
          "name": "stdout",
          "text": [
            "(31962, 3)\n"
          ]
        },
        {
          "output_type": "execute_result",
          "data": {
            "text/html": [
              "<div>\n",
              "<style scoped>\n",
              "    .dataframe tbody tr th:only-of-type {\n",
              "        vertical-align: middle;\n",
              "    }\n",
              "\n",
              "    .dataframe tbody tr th {\n",
              "        vertical-align: top;\n",
              "    }\n",
              "\n",
              "    .dataframe thead th {\n",
              "        text-align: right;\n",
              "    }\n",
              "</style>\n",
              "<table border=\"1\" class=\"dataframe\">\n",
              "  <thead>\n",
              "    <tr style=\"text-align: right;\">\n",
              "      <th></th>\n",
              "      <th>id</th>\n",
              "      <th>label</th>\n",
              "      <th>tweet</th>\n",
              "    </tr>\n",
              "  </thead>\n",
              "  <tbody>\n",
              "    <tr>\n",
              "      <th>0</th>\n",
              "      <td>1</td>\n",
              "      <td>0</td>\n",
              "      <td>@user when a father is dysfunctional and is s...</td>\n",
              "    </tr>\n",
              "  </tbody>\n",
              "</table>\n",
              "</div>"
            ],
            "text/plain": [
              "   id  label                                              tweet\n",
              "0   1      0   @user when a father is dysfunctional and is s..."
            ]
          },
          "metadata": {},
          "execution_count": 16
        }
      ]
    },
    {
      "cell_type": "code",
      "metadata": {
        "colab": {
          "base_uri": "https://localhost:8080/"
        },
        "id": "mkR3MJPMwbSE",
        "outputId": "d0d025b2-bc0d-4511-f5f1-c5e58faaf8c4"
      },
      "source": [
        "df[target].value_counts()\n"
      ],
      "execution_count": 17,
      "outputs": [
        {
          "output_type": "execute_result",
          "data": {
            "text/plain": [
              "0    29720\n",
              "1     2242\n",
              "Name: label, dtype: int64"
            ]
          },
          "metadata": {},
          "execution_count": 17
        }
      ]
    },
    {
      "cell_type": "markdown",
      "metadata": {
        "id": "v8laVGKz66Rb"
      },
      "source": [
        "# Model"
      ]
    },
    {
      "cell_type": "code",
      "metadata": {
        "id": "BUZUf2irvYKR"
      },
      "source": [
        "BATCHSIZE = 256\n",
        "CLASSES = 10\n",
        "EPOCHS = 25\n",
        "NUM_TRIALS = 5"
      ],
      "execution_count": 3,
      "outputs": []
    },
    {
      "cell_type": "code",
      "metadata": {
        "id": "AXHh7ZMr67Wt"
      },
      "source": [
        "keras_model_type =  \"USE\" ## always try \"auto\" first, then \"basic\", \"deep\", \"BERT\", \"USE\", cnn1\", \"LSTM\" etc.\n",
        "keras_options = {\"early_stopping\": True, 'epochs': 350, 'steps_per_epoch': 15, 'class_weight': True}  ### always set early_stopping to True first and then change it to False\n",
        "model_options = {'tuner':\"storm\", \"max_trials\":10, }\n",
        "\n",
        "## always set the tuner to \"storm\" first and then \"optuna\"\n",
        "#### You always need 15 max_trials to get something decent #####\n",
        "trainfile = datapath+filename"
      ],
      "execution_count": 18,
      "outputs": []
    },
    {
      "cell_type": "code",
      "metadata": {
        "colab": {
          "base_uri": "https://localhost:8080/",
          "height": 1000
        },
        "id": "XRSvjDBq6-iH",
        "outputId": "6909da44-dee4-4fc0-9189-f9dd2df463d3"
      },
      "source": [
        "model, dicti = deepauto.fit(trainfile, target, keras_model_type=keras_model_type, \n",
        "                            project_name='churn_1',\n",
        "                 save_model_flag=False, model_options=model_options,\n",
        "                            keras_options=keras_options, use_my_model='', verbose=2)"
      ],
      "execution_count": 19,
      "outputs": [
        {
          "output_type": "stream",
          "name": "stdout",
          "text": [
            "    Only CPU found on this device\n",
            "Setting CPU strategy using 1 devices\n",
            "Using following keras_options given as input:\n",
            "    epochs : 350\n",
            "    steps_per_epoch : 15\n",
            "    class_weight : True\n",
            "    early_stopping : True\n",
            "Using following model_options given as input:\n",
            "    max_trials : 10\n",
            "    tuner : storm\n",
            "Max Trials : 10. Please increase max_trials if you want to better accuracy...\n",
            "\n",
            "#################################################################################\n",
            "###########     L O A D I N G    D A T A    I N T O   TF.DATA.DATASET H E R E  #\n",
            "#################################################################################\n",
            "        \n",
            "CSV file being loaded into tf.data.Dataset\n",
            "    Since number of rows > maxrows, loading a random sample of 10000 rows into pandas for EDA\n",
            "Alert! Modified column names to satisfy rules for column names in Tensorflow...\n",
            "    Model type is Classification and Single_Label problem\n",
            "Loaded a small data sample of size = (10000, 3) into pandas dataframe to analyze...\n",
            "    Classifying variables using data sample in pandas...\n",
            "############## C L A S S I F Y I N G  V A R I A B L E S  ####################\n",
            "Classifying variables in data set...\n",
            "Data Set Shape: 10000 rows, 2 cols\n",
            "Data Set columns info:\n",
            "* id: 0 nulls, 10000 unique vals, most common: {10235: 1, 11591: 1}\n",
            "* tweet: 0 nulls, 9491 unique vals, most common: {'#model   i love u take with u all the time in urð\\x9f\\x93±!!! ð\\x9f\\x98\\x99ð\\x9f\\x98\\x8eð\\x9f\\x91\\x84ð\\x9f\\x91\\x85ð\\x9f\\x92¦ð\\x9f\\x92¦ð\\x9f\\x92¦  ': 86, \"aww yeah it's all good bing bong bing bong   \": 25}\n",
            "--------------------------------------------------------------------\n",
            "    2 Predictors classified...\n",
            "    possible latitude columns in dataset: []\n",
            "        after further analysis, no latitude columns found\n",
            "    possible longitude columns in dataset: []\n",
            "        after further analysis, no longitude columns found\n",
            "        1 variable(s) to be removed since they were ID or low-information variables\n",
            "    List of variables to be removed: ['id']\n",
            "Data Set Shape: 10000 rows, 3 cols\n",
            "   Columns to delete:\n",
            "\"   ['id']\"\n",
            "   Categorical variables: \n",
            "'   []'\n",
            "   Continuous variables:\n",
            "'   []'\n",
            "   Discrete string variables: \n",
            "'   []'\n",
            "   NLP string variables: \n",
            "\"   ['tweet']\"\n",
            "   Date and time variables: \n",
            "'   []'\n",
            "   ID variables %s \n",
            "\"   ['id']\"\n",
            "   Target variable %s \n",
            "'   label'\n",
            "Distribution of string columns in datatset:\n",
            "    number of binary = 0, cats = 0, high cats = 0, very high cats = 1\n",
            "Distribution of integer columns in datatset:\n",
            "    number of binary = 1, cats = 0, high cats = 0, very high cats = 1\n",
            "Distribution of floats:\n",
            "    number float variables = 0\n",
            "No data transformations needed in this dataset\n",
            "    we transformed ['id'] from integer to float\n",
            "printing first five values of label: [0 0 1 0 0]\n",
            "printing features and their max, min, datatypes in one batch \n",
            "tweet is detected and will be treated as an NLP variable\n",
            "  '    sample words from vocab': tweet\n",
            "  '    size of vocab'      : 511976\n",
            "  '    max'                : defaultdict(<function nested_dictionary at 0x7fa6462d7050>, {})\n",
            "  '    min'                : defaultdict(<function nested_dictionary at 0x7fa6462d7050>, {})\n",
            "  '    dtype'              : string\n",
            "    after data cleaning, number of predictors used in modeling = 1\n",
            "Not performing feature crossing for categorical nor integer variables\n",
            "Loading your input file(s) data directly into tf.data.Dataset...\n",
            "    train data loaded successfully.\n",
            "\n",
            "Number of predictors to be used = 1 in predict step: keras preprocessing...\n",
            "Dropping ['id'] columns marked for deletion...\n",
            "Boolean column successfully processed\n",
            "    combined NLP or text vars: ['tweet'] into a single feature successfully\n",
            "Printing one batch from the dataset:\n",
            "id                                      : [1 2 3 4]\n",
            "tweet                                   : [b' @user when a father is dysfunctional and is so selfish he drags his kids into his dysfunction.   #run'\n",
            " b\"@user @user thanks for #lyft credit i can't use cause they don't offer wheelchair vans in pdx.    #disapointed #getthanked\"\n",
            " b'  bihday your majesty'\n",
            " b'#model   i love u take with u all the time in ur\\xc3\\xb0\\xc2\\x9f\\xc2\\x93\\xc2\\xb1!!! \\xc3\\xb0\\xc2\\x9f\\xc2\\x98\\xc2\\x99\\xc3\\xb0\\xc2\\x9f\\xc2\\x98\\xc2\\x8e\\xc3\\xb0\\xc2\\x9f\\xc2\\x91\\xc2\\x84\\xc3\\xb0\\xc2\\x9f\\xc2\\x91\\xc2\\x85\\xc3\\xb0\\xc2\\x9f\\xc2\\x92\\xc2\\xa6\\xc3\\xb0\\xc2\\x9f\\xc2\\x92\\xc2\\xa6\\xc3\\xb0\\xc2\\x9f\\xc2\\x92\\xc2\\xa6  ']\n",
            "combined_nlp_text                       : [b' @user when a father is dysfunctional and is so selfish he drags his kids into his dysfunction.   #run'\n",
            " b\"@user @user thanks for #lyft credit i can't use cause they don't offer wheelchair vans in pdx.    #disapointed #getthanked\"\n",
            " b'  bihday your majesty'\n",
            " b'#model   i love u take with u all the time in ur\\xc3\\xb0\\xc2\\x9f\\xc2\\x93\\xc2\\xb1!!! \\xc3\\xb0\\xc2\\x9f\\xc2\\x98\\xc2\\x99\\xc3\\xb0\\xc2\\x9f\\xc2\\x98\\xc2\\x8e\\xc3\\xb0\\xc2\\x9f\\xc2\\x91\\xc2\\x84\\xc3\\xb0\\xc2\\x9f\\xc2\\x91\\xc2\\x85\\xc3\\xb0\\xc2\\x9f\\xc2\\x92\\xc2\\xa6\\xc3\\xb0\\xc2\\x9f\\xc2\\x92\\xc2\\xa6\\xc3\\xb0\\xc2\\x9f\\xc2\\x92\\xc2\\xa6  ']\n",
            "       Class  -> Counts -> Percent\n",
            "           0:    9311  ->   93.1%\n",
            "           1:     689  ->    6.9%\n",
            "    Class weights calculated: {0: 1.0, 1: 7.256894049346879}\n",
            "\n",
            "#################################################################################\n",
            "###########     K E R A S     F E A T U R E    P R E P R O C E S S I N G  #######\n",
            "#################################################################################\n",
            "        \n",
            "Starting NLP string column layer preprocessing...\n",
            "For nlp column = tweet\n",
            "    size of vocabulary = 511976\n",
            "    sequence length = 247\n",
            "    recommended embedding_size = 128\n",
            "Max vocab size = 19619\n",
            "Loading USE model this will take time...\n",
            "    Universal Sentence Encoder4 selected: https://tfhub.dev/google/universal-sentence-encoder/4\n",
            "    NLP Preprocessing completed.\n",
            "Preprocessing non-NLP layers for USE Keras model...\n",
            "    Non-NLP vars is zero in this dataset. No tabular preprocesing needed...\n",
            "There is no numeric or cat or int variables in this data set.\n",
            "    (None, 512) vector dimensions from NLP variable\n",
            "\n",
            "Creating a new Functional model here...\n",
            "\n",
            "#################################################################################\n",
            "###########     C R E A T I N G    A    K E R A S       M O D E L    ############\n",
            "#################################################################################\n",
            "        \n",
            "Creating a keras Function model...\n",
            "    number of outputs = 1, output_activation = sigmoid\n",
            "    loss function: SparseCategoricalCrossentropy\n",
            "    initial learning rate = 0.05\n",
            "    initial optimizer = SGD\n",
            "    Recommended hidden layers (with units in each Dense Layer)  = (300, 163, 81)\n",
            "\n",
            "    USE model loaded and compiled successfully...\n",
            "Model: \"model\"\n",
            "_________________________________________________________________\n",
            "Layer (type)                 Output Shape              Param #   \n",
            "=================================================================\n",
            "tweet (InputLayer)           [(None,)]                 0         \n",
            "_________________________________________________________________\n",
            "USE4_encoder (KerasLayer)    (None, 512)               256797824 \n",
            "_________________________________________________________________\n",
            "dense_11 (Dense)             (None, 81)                41553     \n",
            "_________________________________________________________________\n",
            "label (Dense)                (None, 2)                 164       \n",
            "=================================================================\n",
            "Total params: 256,839,541\n",
            "Trainable params: 256,839,541\n",
            "Non-trainable params: 0\n",
            "_________________________________________________________________\n",
            "None\n"
          ]
        },
        {
          "output_type": "display_data",
          "data": {
            "image/png": "[encoded data removed]",
            "text/plain": [
              "<IPython.core.display.Image object>"
            ]
          },
          "metadata": {
            "image/png": {
              "width": 376,
              "height": 39
            }
          }
        },
        {
          "output_type": "stream",
          "name": "stdout",
          "text": [
            "Model plot saved in file: deep_autoviml_churn_1_USE_model_before.png\n",
            "\n",
            "#################################################################################\n",
            "###########     T R A I N I N G    K E R A S   M O D E L   H E R E      #########\n",
            "#################################################################################\n",
            "    \n",
            "Training a USE model option...\n",
            "    class_weights: {0: 1.0, 1: 7.256894049346879}\n",
            "    original datasize = 31963, initial batchsize = 32\n",
            "    recommended steps per epoch = 499\n",
            "    recommended OneCycle steps = 349650\n",
            "    default initializer = lecun_normal, default activation = selu\n",
            "    Recommended: Increase patience for \"onecycle\" scheduler\n",
            "Tensorboard log directory can be found at: deep_autoviml/mylogs\n",
            "    chosen keras LR scheduler = default\n",
            "    val mode = max, val monitor = val_balanced_sparse_categorical_accuracy, patience = 10.0\n",
            "    number of epochs = 350, steps per epoch = 15\n",
            "\n",
            "Splitting train into 80+20 percent: train and validation data\n",
            "    Splitting validation 20 into 10+10 percent: valid and heldout data\n",
            "    shuffle size = 31963\n",
            "Model training with best hyperparameters for 350 epochs\n",
            "    Callback added: LearningRateScheduler object at 0x7fa632c4f710>\n",
            "    Callback added: TensorBoard object at 0x7fa650bc0ad0>\n",
            "    Callback added: EarlyStopping object at 0x7fa633700d10>\n",
            "Epoch 1/350\n",
            "499/499 [==============================] - 20s 31ms/step - loss: 0.5109 - balanced_sparse_categorical_accuracy: 0.8364 - val_loss: 0.2721 - val_balanced_sparse_categorical_accuracy: 0.9067\n",
            "Epoch 2/350\n",
            "499/499 [==============================] - 14s 29ms/step - loss: 0.3510 - balanced_sparse_categorical_accuracy: 0.8960 - val_loss: 0.2213 - val_balanced_sparse_categorical_accuracy: 0.9129\n",
            "Epoch 3/350\n",
            "499/499 [==============================] - 15s 30ms/step - loss: 0.2615 - balanced_sparse_categorical_accuracy: 0.9230 - val_loss: 0.1821 - val_balanced_sparse_categorical_accuracy: 0.8988\n",
            "Epoch 4/350\n",
            "499/499 [==============================] - 14s 28ms/step - loss: 0.1984 - balanced_sparse_categorical_accuracy: 0.9442 - val_loss: 0.2103 - val_balanced_sparse_categorical_accuracy: 0.9115\n",
            "Epoch 5/350\n",
            "499/499 [==============================] - 15s 30ms/step - loss: 0.1498 - balanced_sparse_categorical_accuracy: 0.9624 - val_loss: 0.1928 - val_balanced_sparse_categorical_accuracy: 0.9143\n",
            "Epoch 6/350\n",
            "499/499 [==============================] - 15s 31ms/step - loss: 0.1219 - balanced_sparse_categorical_accuracy: 0.9715 - val_loss: 0.1955 - val_balanced_sparse_categorical_accuracy: 0.8892\n",
            "Epoch 7/350\n",
            "499/499 [==============================] - 15s 30ms/step - loss: 0.0943 - balanced_sparse_categorical_accuracy: 0.9775 - val_loss: 0.3671 - val_balanced_sparse_categorical_accuracy: 0.9103\n",
            "Epoch 8/350\n",
            "499/499 [==============================] - 16s 32ms/step - loss: 0.0862 - balanced_sparse_categorical_accuracy: 0.9816 - val_loss: 0.1574 - val_balanced_sparse_categorical_accuracy: 0.8912\n",
            "Epoch 9/350\n",
            "499/499 [==============================] - 17s 34ms/step - loss: 0.0661 - balanced_sparse_categorical_accuracy: 0.9850 - val_loss: 0.1793 - val_balanced_sparse_categorical_accuracy: 0.9038\n",
            "Epoch 10/350\n",
            "499/499 [==============================] - 17s 35ms/step - loss: 0.0556 - balanced_sparse_categorical_accuracy: 0.9866 - val_loss: 0.1519 - val_balanced_sparse_categorical_accuracy: 0.8586\n",
            "Epoch 11/350\n",
            "499/499 [==============================] - 17s 34ms/step - loss: 0.0407 - balanced_sparse_categorical_accuracy: 0.9911 - val_loss: 0.1545 - val_balanced_sparse_categorical_accuracy: 0.8616\n",
            "Epoch 12/350\n",
            "499/499 [==============================] - 17s 33ms/step - loss: 0.0349 - balanced_sparse_categorical_accuracy: 0.9935 - val_loss: 0.1551 - val_balanced_sparse_categorical_accuracy: 0.8653\n",
            "Epoch 13/350\n",
            "499/499 [==============================] - 17s 33ms/step - loss: 0.0201 - balanced_sparse_categorical_accuracy: 0.9950 - val_loss: 0.1715 - val_balanced_sparse_categorical_accuracy: 0.8586\n",
            "Epoch 14/350\n",
            "499/499 [==============================] - 16s 32ms/step - loss: 0.0094 - balanced_sparse_categorical_accuracy: 0.9989 - val_loss: 0.1858 - val_balanced_sparse_categorical_accuracy: 0.8617\n",
            "Epoch 15/350\n",
            "499/499 [==============================] - 14s 28ms/step - loss: 0.0041 - balanced_sparse_categorical_accuracy: 0.9995 - val_loss: 0.2217 - val_balanced_sparse_categorical_accuracy: 0.8446\n",
            "Restoring model weights from the end of the best epoch.\n",
            "Epoch 00015: early stopping\n",
            "    Model training completed. Following metrics available: dict_keys(['loss', 'balanced_sparse_categorical_accuracy', 'val_loss', 'val_balanced_sparse_categorical_accuracy', 'lr'])\n",
            "Time taken to train model (in mins) = 8\n",
            "    Stopped epoch = 5\n",
            "\n",
            "Model not being saved since save_model_flag set to False...\n",
            "\n",
            "Saving vocab dictionary using pickle in churn_1/USE/model_2021_10_30-15_22_12/artifacts/cat_vocab_dict.pickle...will take time...\n",
            "    Saved pickle file in churn_1/USE/model_2021_10_30-15_22_12/artifacts/cat_vocab_dict.pickle\n",
            "\n",
            "Saving variable definitions file using pickle in churn_1/USE/model_2021_10_30-15_22_12/artifacts/var_df.pickle...will take time...\n",
            "    Saved pickle file in churn_1/USE/model_2021_10_30-15_22_12/artifacts/var_df.pickle\n",
            "Single-Label: Heldout data shape: (3200,)\n",
            "    samples from label: [0, 0, 0, 0, 0, 0, 0, 0, 0, 0]\n",
            "\n",
            "Held out predictions shape:(3200,)\n",
            "    Sample predictions: [0 0 0 0 0 0 0 0 0 0]\n"
          ]
        },
        {
          "output_type": "display_data",
          "data": {
            "image/png": "[encoded data removed]",
            "text/plain": [
              "<Figure size 1080x432 with 2 Axes>"
            ]
          },
          "metadata": {
            "needs_background": "light"
          }
        },
        {
          "output_type": "stream",
          "name": "stdout",
          "text": [
            "\n",
            "###########################################################\n",
            "         Held-out test data set Results:\n",
            "Single Label, Multi Class Model Metrics Report: label\n",
            "#################################################################\n"
          ]
        },
        {
          "output_type": "display_data",
          "data": {
            "text/html": [
              "<style>.container { width:95% !important; }</style>"
            ],
            "text/plain": [
              "<IPython.core.display.HTML object>"
            ]
          },
          "metadata": {}
        },
        {
          "output_type": "stream",
          "name": "stdout",
          "text": [
            "    Accuracy          = 90.4%\n",
            "    Balanced Accuracy = 91.4%\n",
            "    Precision         = 40.8%\n",
            "    Average Precision = 70.1%\n",
            "    Recall            = 92.6%\n",
            "    F1 Score          = 56.6%\n",
            "    ROC AUC           = 96.9%\n",
            "#####################################################\n",
            "\n",
            "Training on full train dataset for 5 epochs. This will take time...\n",
            "    completed. Time taken (in mins) = 1\n"
          ]
        },
        {
          "output_type": "display_data",
          "data": {
            "image/png": "[encoded data removed]",
            "text/plain": [
              "<IPython.core.display.Image object>"
            ]
          },
          "metadata": {
            "image/png": {
              "width": 376,
              "height": 39
            }
          }
        },
        {
          "output_type": "stream",
          "name": "stdout",
          "text": [
            "Model plot saved in file: deep_autoviml_churn_1_USE_model_after.png\n"
          ]
        },
        {
          "output_type": "display_data",
          "data": {
            "image/png": "[encoded data removed]",
            "text/plain": [
              "<Figure size 1080x432 with 4 Axes>"
            ]
          },
          "metadata": {
            "needs_background": "light"
          }
        }
      ]
    },
    {
      "cell_type": "markdown",
      "metadata": {
        "id": "6_Jx3Dm79Ryj"
      },
      "source": [
        "# Evaluation"
      ]
    },
    {
      "cell_type": "code",
      "metadata": {
        "id": "miyzDTNR9TCz"
      },
      "source": [
        "filename = 'train.csv'\n",
        "testfile = datapath+filename"
      ],
      "execution_count": 22,
      "outputs": []
    },
    {
      "cell_type": "code",
      "metadata": {
        "colab": {
          "base_uri": "https://localhost:8080/"
        },
        "id": "PiwFfZCC9XAX",
        "outputId": "2fa5813c-3583-48a4-c17a-d58152125eb5"
      },
      "source": [
        "predictions = deepauto.predict(model, project_name='churn_1', test_dataset=testfile,\n",
        "                                 keras_model_type=keras_model_type, \n",
        "                                 cat_vocab_dict=dicti)"
      ],
      "execution_count": 23,
      "outputs": [
        {
          "output_type": "stream",
          "name": "stdout",
          "text": [
            "\n",
            "Loading deep_autoviml model from <keras.engine.functional.Functional object at 0x7fa633527450> folder. This will take time...\n",
            "\n",
            "Using <keras.engine.functional.Functional object at 0x7fa633527450> model provided as input...\n",
            "Time taken to load saved model = 0 seconds\n",
            "Loaded test data size: 31962\n",
            "Alert! Modified column names to satisfy rules for column names in Tensorflow...\n",
            "############## C L A S S I F Y I N G  V A R I A B L E S  ####################\n",
            "Classifying variables in data set...\n",
            "    3 Predictors classified...\n",
            "    possible latitude columns in dataset: []\n",
            "        after further analysis, no latitude columns found\n",
            "    possible longitude columns in dataset: []\n",
            "        after further analysis, no longitude columns found\n",
            "        1 variable(s) to be removed since they were ID or low-information variables\n",
            "Distribution of string columns in datatset:\n",
            "    number of binary = 0, cats = 0, high cats = 0, very high cats = 1\n",
            "Distribution of integer columns in datatset:\n",
            "    number of binary = 1, cats = 0, high cats = 0, very high cats = 1\n",
            "Distribution of floats:\n",
            "    number float variables = 0\n",
            "No data transformations needed in this dataset\n",
            "    we transformed ['id'] from integer to float\n",
            "tweet is detected and will be treated as an NLP variable\n",
            "    after data cleaning, number of predictors used in modeling = 2\n",
            "Not performing feature crossing for categorical nor integer variables\n",
            "    test data loaded successfully.\n",
            "    combined NLP or text vars: ['tweet'] into a single feature successfully\n",
            "test data size =  31962 , batch_size =  32\n",
            "Boolean column successfully processed\n",
            "Batch size = 32\n",
            "    number of steps needed to predict: 999\n",
            "    Sample predictions before inverse_transform: [0 0 0 0 0]\n",
            "    Sample predictions after transform: [0 0 0 0 0]\n",
            "Returning model predictions in form of a list...of length 2\n",
            "Time taken in mins for predictions = 0\n"
          ]
        }
      ]
    },
    {
      "cell_type": "code",
      "metadata": {
        "id": "BX1ScZ_F9fIX",
        "colab": {
          "base_uri": "https://localhost:8080/"
        },
        "outputId": "48326891-fa37-4a77-a85a-0c87660c41cd"
      },
      "source": [
        "print(predictions[-1])"
      ],
      "execution_count": 26,
      "outputs": [
        {
          "output_type": "stream",
          "name": "stdout",
          "text": [
            "[0 0 0 ... 0 1 0]\n"
          ]
        }
      ]
    }
  ]
}