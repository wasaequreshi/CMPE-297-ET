{
  "nbformat": 4,
  "nbformat_minor": 0,
  "metadata": {
    "colab": {
      "name": "hw_2_part_b.ipynb",
      "provenance": [],
      "collapsed_sections": []
    },
    "kernelspec": {
      "name": "python3",
      "display_name": "Python 3"
    },
    "language_info": {
      "name": "python"
    }
  },
  "cells": [
    {
      "cell_type": "markdown",
      "metadata": {
        "id": "MBtXZztm3D2Z"
      },
      "source": [
        "# Dependencies"
      ]
    },
    {
      "cell_type": "code",
      "metadata": {
        "id": "Sk3deb9cVa7K",
        "colab": {
          "base_uri": "https://localhost:8080/"
        },
        "outputId": "91bf9a7c-3d01-4d0f-f9c5-2a15722c2cf6"
      },
      "source": [
        "# Install dependencies for Google Colab.\n",
        "# If you want to run this notebook on your own machine, you can skip this cell\n",
        "!pip install dm-haiku\n",
        "!pip install einops\n",
        "\n",
        "!mkdir /content/perceiver\n",
        "!touch /content/perceiver/__init__.py\n",
        "!wget -O /content/perceiver/io_processors.py https://raw.githubusercontent.com/deepmind/deepmind-research/master/perceiver/io_processors.py\n",
        "!wget -O /content/perceiver/perceiver.py https://raw.githubusercontent.com/deepmind/deepmind-research/master/perceiver/perceiver.py\n",
        "!wget -O /content/perceiver/position_encoding.py https://raw.githubusercontent.com/deepmind/deepmind-research/master/perceiver/position_encoding.py"
      ],
      "execution_count": 1,
      "outputs": [
        {
          "output_type": "stream",
          "name": "stdout",
          "text": [
            "Collecting dm-haiku\n",
            "  Downloading dm_haiku-0.0.4-py3-none-any.whl (284 kB)\n",
            "\u001b[K     |████████████████████████████████| 284 kB 5.0 MB/s \n",
            "\u001b[?25hRequirement already satisfied: absl-py>=0.7.1 in /usr/local/lib/python3.7/dist-packages (from dm-haiku) (0.12.0)\n",
            "Requirement already satisfied: typing-extensions in /usr/local/lib/python3.7/dist-packages (from dm-haiku) (3.7.4.3)\n",
            "Requirement already satisfied: tabulate>=0.8.9 in /usr/local/lib/python3.7/dist-packages (from dm-haiku) (0.8.9)\n",
            "Requirement already satisfied: numpy>=1.18.0 in /usr/local/lib/python3.7/dist-packages (from dm-haiku) (1.19.5)\n",
            "Requirement already satisfied: six in /usr/local/lib/python3.7/dist-packages (from absl-py>=0.7.1->dm-haiku) (1.15.0)\n",
            "Installing collected packages: dm-haiku\n",
            "Successfully installed dm-haiku-0.0.4\n",
            "Collecting einops\n",
            "  Downloading einops-0.3.2-py3-none-any.whl (25 kB)\n",
            "Installing collected packages: einops\n",
            "Successfully installed einops-0.3.2\n",
            "--2021-10-09 02:08:19--  https://raw.githubusercontent.com/deepmind/deepmind-research/master/perceiver/io_processors.py\n",
            "Resolving raw.githubusercontent.com (raw.githubusercontent.com)... 185.199.108.133, 185.199.109.133, 185.199.110.133, ...\n",
            "Connecting to raw.githubusercontent.com (raw.githubusercontent.com)|185.199.108.133|:443... connected.\n",
            "HTTP request sent, awaiting response... 200 OK\n",
            "Length: 29359 (29K) [text/plain]\n",
            "Saving to: ‘/content/perceiver/io_processors.py’\n",
            "\n",
            "/content/perceiver/ 100%[===================>]  28.67K  --.-KB/s    in 0.001s  \n",
            "\n",
            "2021-10-09 02:08:20 (20.4 MB/s) - ‘/content/perceiver/io_processors.py’ saved [29359/29359]\n",
            "\n",
            "--2021-10-09 02:08:20--  https://raw.githubusercontent.com/deepmind/deepmind-research/master/perceiver/perceiver.py\n",
            "Resolving raw.githubusercontent.com (raw.githubusercontent.com)... 185.199.108.133, 185.199.109.133, 185.199.110.133, ...\n",
            "Connecting to raw.githubusercontent.com (raw.githubusercontent.com)|185.199.108.133|:443... connected.\n",
            "HTTP request sent, awaiting response... 200 OK\n",
            "Length: 30179 (29K) [text/plain]\n",
            "Saving to: ‘/content/perceiver/perceiver.py’\n",
            "\n",
            "/content/perceiver/ 100%[===================>]  29.47K  --.-KB/s    in 0.002s  \n",
            "\n",
            "2021-10-09 02:08:20 (12.4 MB/s) - ‘/content/perceiver/perceiver.py’ saved [30179/30179]\n",
            "\n",
            "--2021-10-09 02:08:20--  https://raw.githubusercontent.com/deepmind/deepmind-research/master/perceiver/position_encoding.py\n",
            "Resolving raw.githubusercontent.com (raw.githubusercontent.com)... 185.199.110.133, 185.199.111.133, 185.199.108.133, ...\n",
            "Connecting to raw.githubusercontent.com (raw.githubusercontent.com)|185.199.110.133|:443... connected.\n",
            "HTTP request sent, awaiting response... 200 OK\n",
            "Length: 8107 (7.9K) [text/plain]\n",
            "Saving to: ‘/content/perceiver/position_encoding.py’\n",
            "\n",
            "/content/perceiver/ 100%[===================>]   7.92K  --.-KB/s    in 0s      \n",
            "\n",
            "2021-10-09 02:08:20 (76.1 MB/s) - ‘/content/perceiver/position_encoding.py’ saved [8107/8107]\n",
            "\n"
          ]
        }
      ]
    },
    {
      "cell_type": "markdown",
      "metadata": {
        "id": "KNNTJ1Sr3HG_"
      },
      "source": [
        "# Imports"
      ]
    },
    {
      "cell_type": "code",
      "metadata": {
        "id": "dwA4bp0Szs5B"
      },
      "source": [
        "import functools\n",
        "import itertools\n",
        "import pickle\n",
        "\n",
        "import haiku as hk\n",
        "import jax\n",
        "import jax.numpy as jnp\n",
        "import matplotlib.pyplot as plt\n",
        "import numpy as np\n",
        "\n",
        "import cv2\n",
        "import imageio\n",
        "\n",
        "from perceiver import perceiver, io_processors"
      ],
      "execution_count": 2,
      "outputs": []
    },
    {
      "cell_type": "markdown",
      "metadata": {
        "id": "KIUUQqae3J3m"
      },
      "source": [
        "# Creating Model"
      ]
    },
    {
      "cell_type": "code",
      "metadata": {
        "id": "8KHu4kh8z1rX"
      },
      "source": [
        "FLOW_SCALE_FACTOR = 20\n",
        "# The network assumes images are of the following size\n",
        "TRAIN_SIZE = (368, 496)\n",
        "\n",
        "def optical_flow(images):\n",
        "  \"\"\"Perceiver IO model for optical flow.\n",
        "\n",
        "  Args:\n",
        "    images: Array of two stacked images, of shape [B, 2, H, W, C]\n",
        "  Returns:\n",
        "    Optical flow field, of shape [B, H, W, 2].\n",
        "  \"\"\"\n",
        "  input_preprocessor = io_processors.ImagePreprocessor(\n",
        "      position_encoding_type='fourier',\n",
        "      fourier_position_encoding_kwargs=dict(\n",
        "          num_bands=64,\n",
        "          max_resolution=TRAIN_SIZE,\n",
        "          sine_only=False,\n",
        "          concat_pos=True,\n",
        "      ),\n",
        "      n_extra_pos_mlp=0,\n",
        "      prep_type='patches',\n",
        "      spatial_downsample=1,\n",
        "      conv_after_patching=True,\n",
        "      temporal_downsample=2)\n",
        "\n",
        "  encoder = encoder = perceiver.PerceiverEncoder(\n",
        "      num_self_attends_per_block=24,\n",
        "      # Weights won't be shared if num_blocks is set to 1.\n",
        "      num_blocks=1,\n",
        "      z_index_dim=2048,\n",
        "      num_cross_attend_heads=1,\n",
        "      num_z_channels=512,\n",
        "      num_self_attend_heads=16,\n",
        "      cross_attend_widening_factor=1,\n",
        "      self_attend_widening_factor=1,\n",
        "      dropout_prob=0.0,\n",
        "      z_pos_enc_init_scale=0.02,\n",
        "      cross_attention_shape_for_attn='kv',\n",
        "      name='perceiver_encoder')\n",
        "\n",
        "  decoder = perceiver.FlowDecoder(\n",
        "      TRAIN_SIZE,\n",
        "      rescale_factor=100.0,\n",
        "      use_query_residual=False,\n",
        "      output_num_channels=2,\n",
        "      output_w_init=jnp.zeros,\n",
        "      # We query the decoder using the first frame features\n",
        "      # rather than a standard decoder position encoding.\n",
        "      position_encoding_type='fourier',\n",
        "      fourier_position_encoding_kwargs=dict(\n",
        "          concat_pos=True,\n",
        "          max_resolution=TRAIN_SIZE,\n",
        "          num_bands=64,\n",
        "          sine_only=False\n",
        "      )\n",
        "  )\n",
        "\n",
        "  model = perceiver.Perceiver(\n",
        "      input_preprocessor=input_preprocessor,\n",
        "      encoder=encoder,\n",
        "      decoder=decoder,\n",
        "      output_postprocessor=None)\n",
        "\n",
        "  return model(io_processors.patches_for_flow(images),\n",
        "               is_training=False) * FLOW_SCALE_FACTOR\n",
        "\n",
        "\n",
        "optical_flow = hk.transform(optical_flow)"
      ],
      "execution_count": 3,
      "outputs": []
    },
    {
      "cell_type": "markdown",
      "metadata": {
        "id": "Ijcm9TvU3X7I"
      },
      "source": [
        "# Compute Flow Between Images"
      ]
    },
    {
      "cell_type": "code",
      "metadata": {
        "id": "J450ekegz8ox"
      },
      "source": [
        "\n",
        "# If you encounter GPU memory errors while running the function below,\n",
        "# you can run it on the CPU instead:\n",
        "# _apply_optical_flow_model = jax.jit(optical_flow.apply, backend=\"cpu\")\n",
        "_apply_optical_flow_model = jax.jit(optical_flow.apply)\n",
        "\n",
        "def compute_grid_indices(image_shape, patch_size=TRAIN_SIZE, min_overlap=20):\n",
        "  if min_overlap >= TRAIN_SIZE[0] or min_overlap >= TRAIN_SIZE[1]:\n",
        "    raise ValueError(\n",
        "        f\"Overlap should be less than size of patch (got {min_overlap}\"\n",
        "        f\"for patch size {patch_size}).\")\n",
        "  ys = list(range(0, image_shape[0], TRAIN_SIZE[0] - min_overlap))\n",
        "  xs = list(range(0, image_shape[1], TRAIN_SIZE[1] - min_overlap))\n",
        "  # Make sure the final patch is flush with the image boundary\n",
        "  ys[-1] = image_shape[0] - patch_size[0]\n",
        "  xs[-1] = image_shape[1] - patch_size[1]\n",
        "  return itertools.product(ys, xs)\n",
        "\n",
        "def compute_optical_flow(params, rng, img1, img2, grid_indices,\n",
        "                       patch_size=TRAIN_SIZE):\n",
        "  \"\"\"Function to compute optical flow between two images.\n",
        "\n",
        "  To compute the flow between images of arbitrary sizes, we divide the image\n",
        "  into patches, compute the flow for each patch, and stitch the flows together.\n",
        "\n",
        "  Args:\n",
        "    params: model parameters\n",
        "    rng: jax.random.PRNGKey, not used in this model\n",
        "    img1: first image\n",
        "    img2: second image\n",
        "    grid_indices: indices of the upper left corner for each patch.\n",
        "    patch_size: size of patch, should be TRAIN_SIZE.\n",
        "  \"\"\"\n",
        "  imgs = jnp.stack([img1, img2], axis=0)[None]\n",
        "  height = imgs.shape[-3]\n",
        "  width = imgs.shape[-2]\n",
        "\n",
        "  if height < patch_size[0]:\n",
        "    raise ValueError(\n",
        "        f\"Height of image (shape: {imgs.shape}) must be at least {patch_size[0]}.\"\n",
        "        \"Please pad or resize your image to the minimum dimension.\"\n",
        "    )\n",
        "  if width < patch_size[1]:\n",
        "    raise ValueError(\n",
        "        f\"Width of image (shape: {imgs.shape}) must be at least {patch_size[1]}.\"\n",
        "        \"Please pad or resize your image to the minimum dimension.\"\n",
        "    )\n",
        "\n",
        "  flows = 0\n",
        "  flow_count = 0\n",
        "\n",
        "  for y, x in grid_indices:\n",
        "    inp_piece = imgs[..., y : y + patch_size[0],\n",
        "                     x : x + patch_size[1], :]\n",
        "    flow_piece = _apply_optical_flow_model(params, rng, inp_piece)\n",
        "    weights_x, weights_y = jnp.meshgrid(\n",
        "        jnp.arange(patch_size[1]), jnp.arange(patch_size[0]))\n",
        "\n",
        "    weights_x = jnp.minimum(weights_x + 1, patch_size[1] - weights_x)\n",
        "    weights_y = jnp.minimum(weights_y + 1, patch_size[0] - weights_y)\n",
        "    weights = jnp.minimum(weights_x, weights_y)[jnp.newaxis, :, :,\n",
        "                                                jnp.newaxis]\n",
        "    padding = [(0, 0), (y, height - y - patch_size[0]),\n",
        "               (x, width - x - patch_size[1]), (0, 0)]\n",
        "    flows += jnp.pad(flow_piece * weights, padding)\n",
        "    flow_count += jnp.pad(weights, padding)\n",
        "\n",
        "  flows /= flow_count\n",
        "  return flows"
      ],
      "execution_count": 4,
      "outputs": []
    },
    {
      "cell_type": "markdown",
      "metadata": {
        "id": "tiGvKqDo3nAM"
      },
      "source": [
        "# Load Params From Checkpoint"
      ]
    },
    {
      "cell_type": "code",
      "metadata": {
        "colab": {
          "base_uri": "https://localhost:8080/"
        },
        "id": "IfOyy1xhz-3s",
        "outputId": "37b94e03-f6e3-4074-a845-dd7a365123eb"
      },
      "source": [
        "!wget -O optical_flow_checkpoint.pystate https://storage.googleapis.com/perceiver_io/optical_flow_checkpoint.pystate\n",
        "\n",
        "rng = jax.random.PRNGKey(42)\n",
        "with open(\"optical_flow_checkpoint.pystate\", \"rb\") as f:\n",
        "  params = pickle.loads(f.read())\n",
        "\n",
        "state = {}"
      ],
      "execution_count": 5,
      "outputs": [
        {
          "output_type": "stream",
          "name": "stdout",
          "text": [
            "--2021-10-09 02:09:28--  https://storage.googleapis.com/perceiver_io/optical_flow_checkpoint.pystate\n",
            "Resolving storage.googleapis.com (storage.googleapis.com)... 173.194.218.128, 108.177.13.128, 74.125.26.128, ...\n",
            "Connecting to storage.googleapis.com (storage.googleapis.com)|173.194.218.128|:443... connected.\n",
            "HTTP request sent, awaiting response... 200 OK\n",
            "Length: 164271840 (157M) [application/octet-stream]\n",
            "Saving to: ‘optical_flow_checkpoint.pystate’\n",
            "\n",
            "optical_flow_checkp 100%[===================>] 156.66M   181MB/s    in 0.9s    \n",
            "\n",
            "2021-10-09 02:09:29 (181 MB/s) - ‘optical_flow_checkpoint.pystate’ saved [164271840/164271840]\n",
            "\n"
          ]
        },
        {
          "output_type": "stream",
          "name": "stderr",
          "text": [
            "WARNING:absl:No GPU/TPU found, falling back to CPU. (Set TF_CPP_MIN_LOG_LEVEL=0 and rerun for more info.)\n"
          ]
        }
      ]
    },
    {
      "cell_type": "code",
      "metadata": {
        "colab": {
          "base_uri": "https://localhost:8080/"
        },
        "id": "cVopjy2l0Ct-",
        "outputId": "986ea805-f513-4e30-f638-ca1ed0a706f5"
      },
      "source": [
        "# Download two example frames from the Sintel dataset.\n",
        "# These files are obtained from the Sintel dataset test split,\n",
        "# downloaded from http://sintel.is.tue.mpg.de/downloads.\n",
        "# They correspond to MPI-Sintel-testing/test/clean/cave_3/frame_0001.png\n",
        "# and MPI-Sintel-testing/test/clean/cave_3/frame_0002.png.\n",
        "#\n",
        "# Citation for Sintel dataset:\n",
        "# D. J. Butler, J. Wulff, G. B. Stanley, and M. J. Black.\n",
        "# A naturalistic open source movie for optical flow evaluation.\n",
        "# European Conf. on Computer Vision (ECCV), 2012.\n",
        "# https://files.is.tue.mpg.de/black/papers/ButlerECCV2012.pdf\n",
        "#\n",
        "# The Sintel images are originally generated for the Durian Open Movie project\n",
        "# and are licensed under the Creative Commons Attribution 3.0 license (https://durian.blender.org/sharing/).\n",
        "# The images are copyrighted by the Blender Foundation (https://durian.blender.org).\n",
        "\n",
        "\n",
        "!wget -O sintel_frame1.png https://storage.googleapis.com/perceiver_io/sintel_frame1.png\n",
        "!wget -O sintel_frame2.png https://storage.googleapis.com/perceiver_io/sintel_frame2.png\n",
        "\n",
        "with open(\"sintel_frame1.png\", \"rb\") as f:\n",
        "  im1 = imageio.imread(f)\n",
        "with open(\"sintel_frame2.png\", \"rb\") as f:\n",
        "  im2 = imageio.imread(f)"
      ],
      "execution_count": 6,
      "outputs": [
        {
          "output_type": "stream",
          "name": "stdout",
          "text": [
            "--2021-10-09 02:09:44--  https://storage.googleapis.com/perceiver_io/sintel_frame1.png\n",
            "Resolving storage.googleapis.com (storage.googleapis.com)... 108.177.13.128, 172.217.193.128, 172.217.204.128, ...\n",
            "Connecting to storage.googleapis.com (storage.googleapis.com)|108.177.13.128|:443... connected.\n",
            "HTTP request sent, awaiting response... 200 OK\n",
            "Length: 710411 (694K) [application/octet-stream]\n",
            "Saving to: ‘sintel_frame1.png’\n",
            "\n",
            "\rsintel_frame1.png     0%[                    ]       0  --.-KB/s               \rsintel_frame1.png   100%[===================>] 693.76K  --.-KB/s    in 0.007s  \n",
            "\n",
            "2021-10-09 02:09:44 (94.0 MB/s) - ‘sintel_frame1.png’ saved [710411/710411]\n",
            "\n",
            "--2021-10-09 02:09:44--  https://storage.googleapis.com/perceiver_io/sintel_frame2.png\n",
            "Resolving storage.googleapis.com (storage.googleapis.com)... 173.194.216.128, 108.177.13.128, 172.217.193.128, ...\n",
            "Connecting to storage.googleapis.com (storage.googleapis.com)|173.194.216.128|:443... connected.\n",
            "HTTP request sent, awaiting response... 200 OK\n",
            "Length: 712519 (696K) [application/octet-stream]\n",
            "Saving to: ‘sintel_frame2.png’\n",
            "\n",
            "sintel_frame2.png   100%[===================>] 695.82K  --.-KB/s    in 0.009s  \n",
            "\n",
            "2021-10-09 02:09:44 (72.0 MB/s) - ‘sintel_frame2.png’ saved [712519/712519]\n",
            "\n"
          ]
        }
      ]
    },
    {
      "cell_type": "markdown",
      "metadata": {
        "id": "vz-0YWm73vwj"
      },
      "source": [
        "# Utilities"
      ]
    },
    {
      "cell_type": "code",
      "metadata": {
        "id": "UrcifR6q0E46"
      },
      "source": [
        "def normalize(im):\n",
        "  return im / 255.0 * 2 - 1\n",
        "\n",
        "def visualize_flow(flow):\n",
        "  flow = np.array(flow)\n",
        "  # Use Hue, Saturation, Value colour model \n",
        "  hsv = np.zeros((flow.shape[0], flow.shape[1], 3), dtype=np.uint8)\n",
        "  hsv[..., 2] = 255\n",
        "\n",
        "  mag, ang = cv2.cartToPolar(flow[..., 0], flow[..., 1])\n",
        "  hsv[..., 0] = ang / np.pi / 2 * 180\n",
        "  hsv[..., 1] = np.clip(mag * 255 / 24, 0, 255)\n",
        "  bgr = cv2.cvtColor(hsv, cv2.COLOR_HSV2BGR)\n",
        "  plt.imshow(bgr)"
      ],
      "execution_count": 7,
      "outputs": []
    },
    {
      "cell_type": "markdown",
      "metadata": {
        "id": "duUzNv8G30pU"
      },
      "source": [
        "# Optical Flow"
      ]
    },
    {
      "cell_type": "code",
      "metadata": {
        "id": "S7T9bYrz0GtD"
      },
      "source": [
        "# Divide images into patches, compute flow between corresponding patches\n",
        "# of both images, and stitch the flows together\n",
        "grid_indices = compute_grid_indices(im1.shape)\n",
        "flow = compute_optical_flow(params, rng, normalize(im1), normalize(im2), grid_indices)"
      ],
      "execution_count": null,
      "outputs": []
    },
    {
      "cell_type": "markdown",
      "metadata": {
        "id": "UMwnO_7634GP"
      },
      "source": [
        "# Visualize Optical Flow"
      ]
    },
    {
      "cell_type": "code",
      "metadata": {
        "colab": {
          "base_uri": "https://localhost:8080/",
          "height": 194
        },
        "id": "4pWB3mNo0IX4",
        "outputId": "ef521892-1b49-44cd-c909-1bf7a0fdeb1a"
      },
      "source": [
        "# Visualize the computed flow\n",
        "visualize_flow(flow[0])"
      ],
      "execution_count": 11,
      "outputs": [
        {
          "output_type": "display_data",
          "data": {
            "image/png": "[encoded data removed]",
            "text/plain": [
              "<Figure size 432x288 with 1 Axes>"
            ]
          },
          "metadata": {
            "needs_background": "light"
          }
        }
      ]
    }
  ]
}